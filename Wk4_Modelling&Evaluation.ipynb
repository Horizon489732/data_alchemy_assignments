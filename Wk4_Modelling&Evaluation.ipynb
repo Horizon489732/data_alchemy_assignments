{
 "cells": [
  {
   "cell_type": "markdown",
   "metadata": {},
   "source": [
    "EDA First"
   ]
  },
  {
   "cell_type": "code",
   "execution_count": 39,
   "metadata": {},
   "outputs": [],
   "source": [
    "import pandas as pd\n",
    "import numpy as np\n",
    "import matplotlib.pyplot as plt\n",
    "import seaborn as sns\n",
    "import sklearn"
   ]
  },
  {
   "cell_type": "markdown",
   "metadata": {},
   "source": [
    "FOR THE PHISH URL"
   ]
  },
  {
   "cell_type": "code",
   "execution_count": null,
   "metadata": {},
   "outputs": [
    {
     "data": {
      "text/html": [
       "<div>\n",
       "<style scoped>\n",
       "    .dataframe tbody tr th:only-of-type {\n",
       "        vertical-align: middle;\n",
       "    }\n",
       "\n",
       "    .dataframe tbody tr th {\n",
       "        vertical-align: top;\n",
       "    }\n",
       "\n",
       "    .dataframe thead th {\n",
       "        text-align: right;\n",
       "    }\n",
       "</style>\n",
       "<table border=\"1\" class=\"dataframe\">\n",
       "  <thead>\n",
       "    <tr style=\"text-align: right;\">\n",
       "      <th></th>\n",
       "      <th>phish_id</th>\n",
       "      <th>url</th>\n",
       "      <th>phish_detail_url</th>\n",
       "      <th>submission_time</th>\n",
       "      <th>verified</th>\n",
       "      <th>verification_time</th>\n",
       "      <th>online</th>\n",
       "      <th>target</th>\n",
       "    </tr>\n",
       "  </thead>\n",
       "  <tbody>\n",
       "    <tr>\n",
       "      <th>0</th>\n",
       "      <td>8997132</td>\n",
       "      <td>https://webmail-authionos.com/fr/ionos-fr/login/</td>\n",
       "      <td>http://www.phishtank.com/phish_detail.php?phis...</td>\n",
       "      <td>2025-03-02T11:02:01+00:00</td>\n",
       "      <td>yes</td>\n",
       "      <td>2025-03-02T11:12:05+00:00</td>\n",
       "      <td>yes</td>\n",
       "      <td>Other</td>\n",
       "    </tr>\n",
       "    <tr>\n",
       "      <th>1</th>\n",
       "      <td>8997131</td>\n",
       "      <td>https://loggen.hover.benedwards.co.uk/manageho...</td>\n",
       "      <td>http://www.phishtank.com/phish_detail.php?phis...</td>\n",
       "      <td>2025-03-02T10:29:43+00:00</td>\n",
       "      <td>yes</td>\n",
       "      <td>2025-03-02T10:41:46+00:00</td>\n",
       "      <td>yes</td>\n",
       "      <td>Other</td>\n",
       "    </tr>\n",
       "    <tr>\n",
       "      <th>2</th>\n",
       "      <td>8997126</td>\n",
       "      <td>https://sp350083.sitebeat.crazydomains.com/</td>\n",
       "      <td>http://www.phishtank.com/phish_detail.php?phis...</td>\n",
       "      <td>2025-03-02T10:25:44+00:00</td>\n",
       "      <td>yes</td>\n",
       "      <td>2025-03-02T10:32:16+00:00</td>\n",
       "      <td>yes</td>\n",
       "      <td>Other</td>\n",
       "    </tr>\n",
       "    <tr>\n",
       "      <th>3</th>\n",
       "      <td>8997123</td>\n",
       "      <td>https://nrcrabbbe.wixsite.com/my-site-11sh2</td>\n",
       "      <td>http://www.phishtank.com/phish_detail.php?phis...</td>\n",
       "      <td>2025-03-02T10:23:15+00:00</td>\n",
       "      <td>yes</td>\n",
       "      <td>2025-03-02T10:32:16+00:00</td>\n",
       "      <td>yes</td>\n",
       "      <td>Other</td>\n",
       "    </tr>\n",
       "    <tr>\n",
       "      <th>4</th>\n",
       "      <td>8997122</td>\n",
       "      <td>https://my-site-103475-103976.weeblysite.com/</td>\n",
       "      <td>http://www.phishtank.com/phish_detail.php?phis...</td>\n",
       "      <td>2025-03-02T10:19:23+00:00</td>\n",
       "      <td>yes</td>\n",
       "      <td>2025-03-02T10:21:54+00:00</td>\n",
       "      <td>yes</td>\n",
       "      <td>Other</td>\n",
       "    </tr>\n",
       "  </tbody>\n",
       "</table>\n",
       "</div>"
      ],
      "text/plain": [
       "   phish_id                                                url  \\\n",
       "0   8997132   https://webmail-authionos.com/fr/ionos-fr/login/   \n",
       "1   8997131  https://loggen.hover.benedwards.co.uk/manageho...   \n",
       "2   8997126        https://sp350083.sitebeat.crazydomains.com/   \n",
       "3   8997123        https://nrcrabbbe.wixsite.com/my-site-11sh2   \n",
       "4   8997122      https://my-site-103475-103976.weeblysite.com/   \n",
       "\n",
       "                                    phish_detail_url  \\\n",
       "0  http://www.phishtank.com/phish_detail.php?phis...   \n",
       "1  http://www.phishtank.com/phish_detail.php?phis...   \n",
       "2  http://www.phishtank.com/phish_detail.php?phis...   \n",
       "3  http://www.phishtank.com/phish_detail.php?phis...   \n",
       "4  http://www.phishtank.com/phish_detail.php?phis...   \n",
       "\n",
       "             submission_time verified          verification_time online target  \n",
       "0  2025-03-02T11:02:01+00:00      yes  2025-03-02T11:12:05+00:00    yes  Other  \n",
       "1  2025-03-02T10:29:43+00:00      yes  2025-03-02T10:41:46+00:00    yes  Other  \n",
       "2  2025-03-02T10:25:44+00:00      yes  2025-03-02T10:32:16+00:00    yes  Other  \n",
       "3  2025-03-02T10:23:15+00:00      yes  2025-03-02T10:32:16+00:00    yes  Other  \n",
       "4  2025-03-02T10:19:23+00:00      yes  2025-03-02T10:21:54+00:00    yes  Other  "
      ]
     },
     "execution_count": 40,
     "metadata": {},
     "output_type": "execute_result"
    }
   ],
   "source": [
    "phish_data = pd.read_csv(\"DataFiles/online-valid.csv\")\n",
    "phish_data.head()"
   ]
  },
  {
   "cell_type": "code",
   "execution_count": 41,
   "metadata": {},
   "outputs": [
    {
     "name": "stdout",
     "output_type": "stream",
     "text": [
      "Dataset shape: (63809, 8)\n",
      "\n",
      "Feature Names:\n",
      "['phish_id', 'url', 'phish_detail_url', 'submission_time', 'verified', 'verification_time', 'online', 'target']\n"
     ]
    }
   ],
   "source": [
    "print(f\"Dataset shape: {phish_data.shape}\")\n",
    "\n",
    "print(\"\\nFeature Names:\")\n",
    "print(phish_data.columns.tolist())"
   ]
  },
  {
   "cell_type": "code",
   "execution_count": 42,
   "metadata": {},
   "outputs": [
    {
     "data": {
      "text/plain": [
       "array(['Other', 'Allegro', 'JPMorgan Chase and Co.', 'AT&amp;T',\n",
       "       'WeTransfer', 'Internal Revenue Service', 'Steam',\n",
       "       'Bank of America Corporation', 'eBay, Inc.', 'Apple', 'HSBC Group',\n",
       "       'Optus', 'Netflix', 'Amazon.com', 'Facebook', 'AEON Card',\n",
       "       'PayPal', 'Coinbase', 'KDDI', 'British Telecom', 'Google',\n",
       "       'Microsoft', 'Development Bank of Singapore', 'Visa',\n",
       "       'PayPay Bank', 'Wells Fargo',\n",
       "       'Sumitomo Mitsui Banking Corporation',\n",
       "       'East Japan Railway Company', 'Rakuten', 'Bradesco', 'DHL',\n",
       "       'Raiffeisen Bank', 'Comcast', 'Orange', 'JCB Card',\n",
       "       'AbonnÃ© Free Mobile', 'First National Bank (South Africa)',\n",
       "       'WhatsApp', 'Adobe', 'Itau', 'Yahoo', 'Australian Taxation Office',\n",
       "       'Regions Bank', 'Caixa', 'ING Direct', 'UniCredit', 'DocuSign',\n",
       "       'Navy Federal Credit Union', 'Barclays Bank PLC', 'Nubank',\n",
       "       'Banco Santander, S.A.', 'Rackspace', 'Binance', 'Mastercard',\n",
       "       'Citizens Bank', 'American Express', 'Instagram', 'Sparkasse',\n",
       "       'Australia and New Zealand Banking Group Limited', 'Swedbank',\n",
       "       'Key Bank', 'Accurint', 'Nordea Bank', 'TelefÃ³nica UK',\n",
       "       'SociÃ©tÃ© GÃ©nÃ©rale', 'Verizon Wireless', 'Three',\n",
       "       'Bank Millennium', 'Swiss Post', 'ABSA Bank', 'Wachovia',\n",
       "       'Dropbox', 'Huntington National Bank',\n",
       "       \"Her Majesty's Revenue and Customs\", 'ABN AMRO Bank',\n",
       "       'Aetna Health Plans &amp; Dental Coverage',\n",
       "       'Volksbanken Raiffeisenbanken', 'Allied Bank Limited',\n",
       "       'Virustotal', 'Nets', 'Banco De Brasil', 'Intesa Sanpaolo', 'Xapo',\n",
       "       'Banco Real', 'Santander UK', 'Co-operative Bank', 'Scotiabank',\n",
       "       'RuneScape', 'TSB', 'Capitec Bank', 'Das kann Bank',\n",
       "       'Royal Bank of Canada', 'Sulake Corporation'], dtype=object)"
      ]
     },
     "execution_count": 42,
     "metadata": {},
     "output_type": "execute_result"
    }
   ],
   "source": [
    "phish_data[\"target\"].unique()"
   ]
  },
  {
   "cell_type": "code",
   "execution_count": 43,
   "metadata": {},
   "outputs": [
    {
     "data": {
      "text/plain": [
       "phish_id              int64\n",
       "url                  object\n",
       "phish_detail_url     object\n",
       "submission_time      object\n",
       "verified             object\n",
       "verification_time    object\n",
       "online               object\n",
       "target               object\n",
       "dtype: object"
      ]
     },
     "execution_count": 43,
     "metadata": {},
     "output_type": "execute_result"
    }
   ],
   "source": [
    "phish_data.dtypes"
   ]
  },
  {
   "cell_type": "code",
   "execution_count": 45,
   "metadata": {},
   "outputs": [
    {
     "name": "stdout",
     "output_type": "stream",
     "text": [
      "\n",
      "Missing Values Count:\n",
      "phish_id             0\n",
      "url                  0\n",
      "phish_detail_url     0\n",
      "submission_time      0\n",
      "verified             0\n",
      "verification_time    0\n",
      "online               0\n",
      "target               0\n",
      "dtype: int64\n"
     ]
    }
   ],
   "source": [
    "print(\"\\nMissing Values Count:\")\n",
    "print(phish_data.isnull().sum())"
   ]
  },
  {
   "cell_type": "markdown",
   "metadata": {},
   "source": [
    "FOR THE LEGITIMATE URLS"
   ]
  },
  {
   "cell_type": "code",
   "execution_count": 52,
   "metadata": {},
   "outputs": [
    {
     "data": {
      "text/html": [
       "<div>\n",
       "<style scoped>\n",
       "    .dataframe tbody tr th:only-of-type {\n",
       "        vertical-align: middle;\n",
       "    }\n",
       "\n",
       "    .dataframe tbody tr th {\n",
       "        vertical-align: top;\n",
       "    }\n",
       "\n",
       "    .dataframe thead th {\n",
       "        text-align: right;\n",
       "    }\n",
       "</style>\n",
       "<table border=\"1\" class=\"dataframe\">\n",
       "  <thead>\n",
       "    <tr style=\"text-align: right;\">\n",
       "      <th></th>\n",
       "      <th>url</th>\n",
       "      <th>label</th>\n",
       "    </tr>\n",
       "  </thead>\n",
       "  <tbody>\n",
       "    <tr>\n",
       "      <th>0</th>\n",
       "      <td>https://www.google.com</td>\n",
       "      <td>benign</td>\n",
       "    </tr>\n",
       "    <tr>\n",
       "      <th>1</th>\n",
       "      <td>https://www.youtube.com</td>\n",
       "      <td>benign</td>\n",
       "    </tr>\n",
       "    <tr>\n",
       "      <th>2</th>\n",
       "      <td>https://www.facebook.com</td>\n",
       "      <td>benign</td>\n",
       "    </tr>\n",
       "    <tr>\n",
       "      <th>3</th>\n",
       "      <td>https://www.baidu.com</td>\n",
       "      <td>benign</td>\n",
       "    </tr>\n",
       "    <tr>\n",
       "      <th>4</th>\n",
       "      <td>https://www.wikipedia.org</td>\n",
       "      <td>benign</td>\n",
       "    </tr>\n",
       "  </tbody>\n",
       "</table>\n",
       "</div>"
      ],
      "text/plain": [
       "                         url   label\n",
       "0     https://www.google.com  benign\n",
       "1    https://www.youtube.com  benign\n",
       "2   https://www.facebook.com  benign\n",
       "3      https://www.baidu.com  benign\n",
       "4  https://www.wikipedia.org  benign"
      ]
     },
     "execution_count": 52,
     "metadata": {},
     "output_type": "execute_result"
    }
   ],
   "source": [
    "legit_data = pd.read_csv(\"DataFiles/benign_urls.csv\")\n",
    "legit_data.head()"
   ]
  },
  {
   "cell_type": "code",
   "execution_count": 54,
   "metadata": {},
   "outputs": [
    {
     "name": "stdout",
     "output_type": "stream",
     "text": [
      "Dataset shape: (316254, 2)\n",
      "\n",
      "Feature Names:\n",
      "['url', 'label']\n"
     ]
    },
    {
     "data": {
      "text/plain": [
       "url      object\n",
       "label    object\n",
       "dtype: object"
      ]
     },
     "execution_count": 54,
     "metadata": {},
     "output_type": "execute_result"
    }
   ],
   "source": [
    "print(f\"Dataset shape: {legit_data.shape}\")\n",
    "\n",
    "print(\"\\nFeature Names:\")\n",
    "print(legit_data.columns.tolist())\n",
    "\n",
    "legit_data.dtypes"
   ]
  },
  {
   "cell_type": "code",
   "execution_count": null,
   "metadata": {},
   "outputs": [],
   "source": []
  }
 ],
 "metadata": {
  "kernelspec": {
   "display_name": "pythonEnv",
   "language": "python",
   "name": "python3"
  },
  "language_info": {
   "codemirror_mode": {
    "name": "ipython",
    "version": 3
   },
   "file_extension": ".py",
   "mimetype": "text/x-python",
   "name": "python",
   "nbconvert_exporter": "python",
   "pygments_lexer": "ipython3",
   "version": "3.11.4"
  }
 },
 "nbformat": 4,
 "nbformat_minor": 2
}
